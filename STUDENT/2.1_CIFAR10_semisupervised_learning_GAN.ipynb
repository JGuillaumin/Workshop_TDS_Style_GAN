{
 "cells": [
  {
   "cell_type": "code",
   "execution_count": null,
   "metadata": {},
   "outputs": [],
   "source": [
    "import numpy as np\n",
    "\n",
    "import matplotlib.pyplot as plt\n",
    "%matplotlib inline"
   ]
  },
  {
   "cell_type": "markdown",
   "metadata": {},
   "source": [
    "# Semi-supervised learning with GAN\n",
    "\n",
    "- train <G,D> with the GAN framework\n",
    "- use unlabeled data\n",
    "- then, transform the discriminator into a classifier (10 classes)\n",
    "- here, we will use the Discriminator ! \n",
    "\n",
    "### About the data set"
   ]
  },
  {
   "cell_type": "code",
   "execution_count": null,
   "metadata": {},
   "outputs": [],
   "source": [
    "from keras.datasets.cifar10 import load_data\n",
    "\n",
    "# train/val/test\n",
    "from sklearn.model_selection import train_test_split"
   ]
  },
  {
   "cell_type": "code",
   "execution_count": null,
   "metadata": {},
   "outputs": [],
   "source": [
    "(x_train, y_train), (x_test, y_test) = load_data()\n",
    "\n",
    "x_train, x_val, y_train, y_val = train_test_split(x_train, y_train, shuffle=True, stratify=y_train, test_size=0.2)\n",
    "\n",
    "print(\"x_train : {} | {}\".format(x_train.shape, x_train.dtype))\n",
    "print(\"y_train : {} | {}\".format(y_train.shape, y_train.dtype))\n",
    "print(\"x_val : {} | {}\".format(x_val.shape, x_val.dtype))\n",
    "print(\"y_val : {} | {}\".format(y_val.shape, y_val.dtype))\n",
    "print(\"x_test : {} | {}\".format(x_test.shape, x_test.dtype))\n",
    "print(\"y_test : {} | {}\".format(y_test.shape, y_test.dtype))\n",
    "_ = plt.hist(y_train, bins=10)"
   ]
  },
  {
   "cell_type": "code",
   "execution_count": null,
   "metadata": {},
   "outputs": [],
   "source": [
    "fig = plt.figure(figsize=(10, 10))\n",
    "for id_class in range(10):\n",
    "    indices = np.where(y_train==id_class)[0]\n",
    "    for i in range(10):\n",
    "        plt.subplot(10, 10, id_class*10 + i + 1)\n",
    "        plt.imshow(x_train[indices[i]])\n",
    "plt.show()"
   ]
  },
  {
   "cell_type": "code",
   "execution_count": null,
   "metadata": {},
   "outputs": [],
   "source": [
    "# minimal pre-processsing : scale to [-1, 1]\n",
    "x_train = (x_train.astype(np.float32) / 127.5 ) - 1.\n",
    "x_val = (x_val.astype(np.float32) / 127.5 ) - 1.\n",
    "x_test = (x_test.astype(np.float32) / 127.5 ) - 1."
   ]
  },
  {
   "cell_type": "markdown",
   "metadata": {},
   "source": [
    "# DCGAN architecture : G and D are CNNs !"
   ]
  },
  {
   "cell_type": "code",
   "execution_count": null,
   "metadata": {},
   "outputs": [],
   "source": [
    "# tool box \n",
    "from keras.layers import Dense, Conv2D, MaxPooling2D, AveragePooling2D, Activation, BatchNormalization, LeakyReLU, Dropout\n",
    "from keras.layers import InputLayer, Input, Activation, UpSampling2D, Reshape, Flatten\n",
    "from keras.models import Model, Sequential\n",
    "\n",
    "from keras.optimizers import Adam"
   ]
  },
  {
   "cell_type": "code",
   "execution_count": null,
   "metadata": {},
   "outputs": [],
   "source": [
    "z_dim = 100\n",
    "img_height = 32\n",
    "img_width = 32"
   ]
  },
  {
   "cell_type": "markdown",
   "metadata": {},
   "source": [
    "### Generator"
   ]
  },
  {
   "cell_type": "code",
   "execution_count": null,
   "metadata": {},
   "outputs": [],
   "source": [
    "input_G = Input(shape=(z_dim,))\n",
    "\n",
    "output_G = ???\n",
    "\n",
    "generator = Model(inputs=input_G, outputs=output_G)\n",
    "\n",
    "generator.summary()"
   ]
  },
  {
   "cell_type": "code",
   "execution_count": null,
   "metadata": {},
   "outputs": [],
   "source": [
    "generator.compile(optimizer='adam', loss='binary_crossentropy')"
   ]
  },
  {
   "cell_type": "markdown",
   "metadata": {},
   "source": [
    "### Discriminator"
   ]
  },
  {
   "cell_type": "code",
   "execution_count": null,
   "metadata": {},
   "outputs": [],
   "source": [
    "input_D = Input(shape=(img_height, img_width, 3))\n",
    "\n",
    "output_D = ???\n",
    "\n",
    "\n",
    "discriminator = Model(inputs=input_D, outputs=output_D)\n",
    "\n",
    "discriminator.summary()"
   ]
  },
  {
   "cell_type": "code",
   "execution_count": null,
   "metadata": {},
   "outputs": [],
   "source": [
    "discriminator.compile(loss='???', optimizer=????, metrics=['accuracy'])"
   ]
  },
  {
   "cell_type": "markdown",
   "metadata": {},
   "source": [
    "### Combine 'G' and 'D', to train 'G'"
   ]
  },
  {
   "cell_type": "code",
   "execution_count": null,
   "metadata": {},
   "outputs": [],
   "source": [
    "discriminator.trainable = False\n",
    "\n",
    "gan_input = Input(shape=(z_dim,))\n",
    "gan_output = discriminator(generator(gan_input))\n",
    "\n",
    "gan = Model(inputs=gan_input, outputs=gan_output)"
   ]
  },
  {
   "cell_type": "code",
   "execution_count": null,
   "metadata": {},
   "outputs": [],
   "source": [
    "gan.summary()"
   ]
  },
  {
   "cell_type": "code",
   "execution_count": null,
   "metadata": {},
   "outputs": [],
   "source": [
    "gan.compile(loss='binary_crossentropy', optimizer=Adam(0.0001, beta_1=0.5), metrics=[\"accuracy\"])"
   ]
  },
  {
   "cell_type": "markdown",
   "metadata": {},
   "source": [
    "### Unsupervised 'joint' training"
   ]
  },
  {
   "cell_type": "code",
   "execution_count": null,
   "metadata": {},
   "outputs": [],
   "source": [
    "from keras.preprocessing.image import ImageDataGenerator"
   ]
  },
  {
   "cell_type": "code",
   "execution_count": null,
   "metadata": {},
   "outputs": [],
   "source": [
    "batch_size = 32\n",
    "num_steps = 500"
   ]
  },
  {
   "cell_type": "code",
   "execution_count": null,
   "metadata": {},
   "outputs": [],
   "source": [
    "batch_gen = ImageDataGenerator().flow(batch_size=batch_size,\n",
    "                                      x=x_train,\n",
    "                                      shuffle=True)"
   ]
  },
  {
   "cell_type": "code",
   "execution_count": null,
   "metadata": {},
   "outputs": [],
   "source": [
    "x = batch_gen.next()\n",
    "print(x.shape, x.dtype)\n",
    "_ = plt.hist(x.flatten(), bins=255)"
   ]
  },
  {
   "cell_type": "code",
   "execution_count": null,
   "metadata": {},
   "outputs": [],
   "source": [
    "i = 0"
   ]
  },
  {
   "cell_type": "code",
   "execution_count": null,
   "metadata": {},
   "outputs": [],
   "source": [
    "for step in range(num_steps):\n",
    "    ###################################### TRAIN THE DISCRIMINATOR ###############################\n",
    "    discriminator.trainable = True\n",
    "    # generate fake images\n",
    "    random_z_vectors = np.random.normal(size=(batch_size, z_dim))\n",
    "    fake_images = generator.predict(random_z_vectors)\n",
    "    labels = np.ones((batch_size, 1), dtype=np.float32)\n",
    "    d_loss_1 = discriminator.train_on_batch(fake_images, labels)\n",
    "\n",
    "\n",
    "    # get real images\n",
    "    real_images = batch_gen.next()\n",
    "    labels = np.zeros((real_images.shape[0], 1), dtype=np.float32)\n",
    "    d_loss_2 = discriminator.train_on_batch(real_images, labels)\n",
    "\n",
    "    # ############################################################################################\n",
    "\n",
    "    ###################################### TRAIN THE GENERATOR ###################################\n",
    "    discriminator.trainable = False\n",
    "    random_z_vectors = np.random.normal(size=(batch_size, z_dim))\n",
    "    misleading_labels = np.zeros((batch_size, 1))\n",
    "    g_loss = gan.train_on_batch(random_z_vectors, misleading_labels)\n",
    "\n",
    "    ###############################################################################################\n",
    "    i +=1\n",
    "    if i % 50 == 0:\n",
    "        print(\"At {} iteration : \".format(i))\n",
    "        print('\\tdiscriminator loss: {}'.format((d_loss_1, d_loss_2)))\n",
    "        print('\\tgenerator loss:  {}'.format(g_loss))\n",
    "    "
   ]
  },
  {
   "cell_type": "code",
   "execution_count": null,
   "metadata": {},
   "outputs": [],
   "source": [
    "def deprocess_images(x):\n",
    "    x = (x + 1.)*127.5\n",
    "    return np.clip(x, 0, 255).astype(np.uint8)"
   ]
  },
  {
   "cell_type": "code",
   "execution_count": null,
   "metadata": {},
   "outputs": [],
   "source": [
    "random_z_vectors = np.random.normal(size=(100, z_dim))\n",
    "fake_images = generator.predict(random_z_vectors)\n",
    "\n",
    "\n",
    "fig = plt.figure(figsize=(10, 10))\n",
    "for i in range(100):\n",
    "    plt.subplot(10, 10, i+1)\n",
    "    plt.imshow(deprocess_images(fake_images[i,:,:,0]))\n",
    "plt.show()"
   ]
  },
  {
   "cell_type": "markdown",
   "metadata": {},
   "source": [
    "## Transform D as a classifier\n",
    "\n",
    "- you can freeze some layers of the generator"
   ]
  },
  {
   "cell_type": "code",
   "execution_count": null,
   "metadata": {},
   "outputs": [],
   "source": [
    "discriminator.trainable = False"
   ]
  },
  {
   "cell_type": "code",
   "execution_count": null,
   "metadata": {},
   "outputs": [],
   "source": [
    "[(layer.name, layer.trainable, layer) for layer in discriminator.layers]"
   ]
  },
  {
   "cell_type": "code",
   "execution_count": null,
   "metadata": {},
   "outputs": [],
   "source": [
    "discriminator.input"
   ]
  },
  {
   "cell_type": "code",
   "execution_count": null,
   "metadata": {},
   "outputs": [],
   "source": [
    "# get a layer from the discriminator\n",
    "# then add you layers for the classifier\n",
    "\n",
    "output_discriminator = ????\n",
    "\n",
    "# add layers ? \n",
    "???\n",
    "\n",
    "output_classifier = ???\n",
    "\n",
    "classifier = Model(inputs=???, outputs=???)"
   ]
  },
  {
   "cell_type": "code",
   "execution_count": null,
   "metadata": {},
   "outputs": [],
   "source": [
    "classifier.summary()"
   ]
  },
  {
   "cell_type": "markdown",
   "metadata": {},
   "source": [
    "## Train the classifier with labeled data"
   ]
  },
  {
   "cell_type": "code",
   "execution_count": null,
   "metadata": {},
   "outputs": [],
   "source": [
    "from keras.utils import to_categorical"
   ]
  },
  {
   "cell_type": "code",
   "execution_count": null,
   "metadata": {},
   "outputs": [],
   "source": [
    "opt = Adam(lr=0.001)\n",
    "classifier.compile(loss='categorical_crossentropy', optimizer=opt, metrics=[\"accuracy\"])"
   ]
  },
  {
   "cell_type": "code",
   "execution_count": null,
   "metadata": {},
   "outputs": [],
   "source": [
    "history = classifier.fit(x_train, to_categorical(y_train, num_classes=10),\n",
    "                         epochs=10,\n",
    "                         batch_size=32,\n",
    "                         validation_data=(x_val, to_categorical(y_val, num_classes=10)),\n",
    "                         shuffle=True,\n",
    "                         verbose=1)"
   ]
  },
  {
   "cell_type": "code",
   "execution_count": null,
   "metadata": {},
   "outputs": [],
   "source": []
  }
 ],
 "metadata": {
  "kernelspec": {
   "display_name": "Python 3",
   "language": "python",
   "name": "python3"
  },
  "language_info": {
   "codemirror_mode": {
    "name": "ipython",
    "version": 3
   },
   "file_extension": ".py",
   "mimetype": "text/x-python",
   "name": "python",
   "nbconvert_exporter": "python",
   "pygments_lexer": "ipython3",
   "version": "3.5.2"
  },
  "widgets": {
   "state": {},
   "version": "1.1.2"
  }
 },
 "nbformat": 4,
 "nbformat_minor": 2
}
