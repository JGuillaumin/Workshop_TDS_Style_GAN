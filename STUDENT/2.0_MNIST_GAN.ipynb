{
 "cells": [
  {
   "cell_type": "code",
   "execution_count": null,
   "metadata": {},
   "outputs": [],
   "source": [
    "import numpy as np\n",
    "\n",
    "import matplotlib.pyplot as plt\n",
    "%matplotlib inline"
   ]
  },
  {
   "cell_type": "markdown",
   "metadata": {},
   "source": [
    "# Get started with GANs : digit generator\n",
    "\n",
    "- generator and discriminator are MLPs (only dense layers)\n",
    "- per 'digit' generation : a '9' generator for example"
   ]
  },
  {
   "cell_type": "code",
   "execution_count": null,
   "metadata": {},
   "outputs": [],
   "source": [
    "# some datasets are available directly with Keras\n",
    "from keras.datasets.mnist import load_data"
   ]
  },
  {
   "cell_type": "code",
   "execution_count": null,
   "metadata": {},
   "outputs": [],
   "source": [
    "(x_train, y_train), (x_test, y_test) = load_data()\n",
    "\n",
    "print(\"x_train : {} | {}\".format(x_train.shape, x_train.dtype))\n",
    "print(\"y_train : {} | {}\".format(y_train.shape, y_train.dtype))\n",
    "print(\"x_test : {} | {}\".format(x_test.shape, x_test.dtype))\n",
    "print(\"y_test : {} | {}\".format(y_test.shape, y_test.dtype))\n",
    "_ = plt.hist(y_train, bins=10)"
   ]
  },
  {
   "cell_type": "code",
   "execution_count": null,
   "metadata": {},
   "outputs": [],
   "source": [
    "fig = plt.figure(figsize=(10, 10))\n",
    "for id_class in range(10):\n",
    "    indices = np.where(y_train==id_class)[0]\n",
    "    for i in range(10):\n",
    "        plt.subplot(10, 10, id_class*10 + i + 1)\n",
    "        plt.imshow(x_train[indices[i]], cmap='gray')\n",
    "plt.show()"
   ]
  },
  {
   "cell_type": "code",
   "execution_count": null,
   "metadata": {},
   "outputs": [],
   "source": [
    "# minimal pre-processsing for GAN : scale to [-1, 1] ---> tanh at the end of the generator\n",
    "# add new 'dim' : channel dimension \n",
    "x_train = (np.expand_dims(x_train, axis=-1).astype(np.float32)/ 127.5) -1\n",
    "x_test = (np.expand_dims(x_test, axis=-1).astype(np.float32)/ 127.5) - 1"
   ]
  },
  {
   "cell_type": "markdown",
   "metadata": {},
   "source": [
    "# '9' GAN"
   ]
  },
  {
   "cell_type": "code",
   "execution_count": null,
   "metadata": {},
   "outputs": [],
   "source": [
    "from keras.layers import BatchNormalization, Dense, LeakyReLU, InputLayer, Reshape, Flatten, Input\n",
    "from keras.models import Sequential, Model\n",
    "\n",
    "from keras.optimizers import Adam"
   ]
  },
  {
   "cell_type": "code",
   "execution_count": null,
   "metadata": {},
   "outputs": [],
   "source": [
    "z_dim = ???\n",
    "img_height = 28\n",
    "img_width = 28\n",
    "num_features = 28*28"
   ]
  },
  {
   "cell_type": "markdown",
   "metadata": {},
   "source": [
    "### Generator"
   ]
  },
  {
   "cell_type": "code",
   "execution_count": null,
   "metadata": {},
   "outputs": [],
   "source": [
    "generator = Sequential()\n",
    "        \n",
    "?????\n",
    "?????\n",
    "\n",
    "generator.summary()"
   ]
  },
  {
   "cell_type": "code",
   "execution_count": null,
   "metadata": {},
   "outputs": [],
   "source": [
    "# need to compile the generator right now, to have a 'callable' model later\n",
    "generator.compile(loss='binary_crossentropy', optimizer=Adam())"
   ]
  },
  {
   "cell_type": "markdown",
   "metadata": {},
   "source": [
    "## Discriminator"
   ]
  },
  {
   "cell_type": "code",
   "execution_count": null,
   "metadata": {},
   "outputs": [],
   "source": [
    "discriminator = Sequential()\n",
    "?????\n",
    "\n",
    "discriminator.summary()"
   ]
  },
  {
   "cell_type": "code",
   "execution_count": null,
   "metadata": {},
   "outputs": [],
   "source": [
    "discriminator.compile(loss='???', optimizer=???, metrics=['accuracy'])"
   ]
  },
  {
   "cell_type": "markdown",
   "metadata": {},
   "source": [
    "## Combine 'G' and 'D', to train 'G'"
   ]
  },
  {
   "cell_type": "code",
   "execution_count": null,
   "metadata": {},
   "outputs": [],
   "source": [
    "discriminator.trainable = False\n",
    "\n",
    "gan_input = ???\n",
    "gan_output = ????\n",
    "\n",
    "gan = Model(inputs=????, outputs=????)"
   ]
  },
  {
   "cell_type": "code",
   "execution_count": null,
   "metadata": {},
   "outputs": [],
   "source": [
    "gan.summary()"
   ]
  },
  {
   "cell_type": "code",
   "execution_count": null,
   "metadata": {},
   "outputs": [],
   "source": [
    "gan.compile(loss='???', optimizer=???, metrics=[\"accuracy\"])"
   ]
  },
  {
   "cell_type": "markdown",
   "metadata": {},
   "source": [
    "## Joint training"
   ]
  },
  {
   "cell_type": "code",
   "execution_count": null,
   "metadata": {},
   "outputs": [],
   "source": [
    "from keras.preprocessing.image import ImageDataGenerator"
   ]
  },
  {
   "cell_type": "code",
   "execution_count": null,
   "metadata": {},
   "outputs": [],
   "source": [
    "x_train_9 = x_train[np.where(y_train==9)]\n",
    "print(x_train_9.shape)"
   ]
  },
  {
   "cell_type": "code",
   "execution_count": null,
   "metadata": {},
   "outputs": [],
   "source": [
    "batch_size = 32\n",
    "num_steps = 15000"
   ]
  },
  {
   "cell_type": "markdown",
   "metadata": {},
   "source": [
    "#### Batch generator of 'real' samples "
   ]
  },
  {
   "cell_type": "code",
   "execution_count": null,
   "metadata": {},
   "outputs": [],
   "source": [
    "batch_gen = ImageDataGenerator().flow(batch_size=batch_size,\n",
    "                                      x=x_train_9,\n",
    "                                      shuffle=True)"
   ]
  },
  {
   "cell_type": "code",
   "execution_count": null,
   "metadata": {},
   "outputs": [],
   "source": [
    "x = batch_gen.next()\n",
    "print(x.shape, x.dtype)\n",
    "_ = plt.hist(x.flatten(), bins=255)"
   ]
  },
  {
   "cell_type": "markdown",
   "metadata": {},
   "source": [
    "-**Note** : 1<->fake | 0<->real  "
   ]
  },
  {
   "cell_type": "code",
   "execution_count": null,
   "metadata": {},
   "outputs": [],
   "source": [
    "i = 0"
   ]
  },
  {
   "cell_type": "code",
   "execution_count": null,
   "metadata": {
    "scrolled": true
   },
   "outputs": [],
   "source": [
    "for step in range(num_steps):\n",
    "    ###################################### TRAIN THE DISCRIMINATOR ###############################\n",
    "    discriminator.trainable = True\n",
    "    # generate fake images, and train D (one batch training)\n",
    "    random_z_vectors = ???\n",
    "    fake_images = ???\n",
    "    labels = ???\n",
    "    d_loss_1 = ???\n",
    "\n",
    "\n",
    "    # get real images and train D (one batch training)\n",
    "    real_images = batch_gen.next()\n",
    "    labels = ???\n",
    "    d_loss_2 = ???\n",
    "\n",
    "    # ############################################################################################\n",
    "\n",
    "    ###################################### TRAIN THE GENERATOR ###################################\n",
    "    discriminator.trainable = False\n",
    "    random_z_vectors = ???\n",
    "    misleading_labels = ???\n",
    "    g_loss = ????\n",
    "\n",
    "    ###############################################################################################\n",
    "    i +=1\n",
    "    if i % 50 == 0:\n",
    "        print(\"At {} iteration : \".format(i))\n",
    "        print('\\tdiscriminator loss: {}'.format((d_loss_1, d_loss_2)))\n",
    "        print('\\tgenerator loss:  {}'.format(g_loss))\n",
    "    "
   ]
  },
  {
   "cell_type": "code",
   "execution_count": null,
   "metadata": {},
   "outputs": [],
   "source": [
    "random_z_vectors = np.random.normal(size=(100, z_dim))\n",
    "fake_images = generator.predict(random_z_vectors)\n",
    "\n",
    "\n",
    "fig = plt.figure(figsize=(10, 10))\n",
    "for i in range(100):\n",
    "    plt.subplot(10, 10, i+1)\n",
    "    plt.imshow(fake_images[i,:,:,0], cmap='gray')\n",
    "plt.show()"
   ]
  },
  {
   "cell_type": "code",
   "execution_count": null,
   "metadata": {},
   "outputs": [],
   "source": []
  }
 ],
 "metadata": {
  "kernelspec": {
   "display_name": "Python 3",
   "language": "python",
   "name": "python3"
  },
  "language_info": {
   "codemirror_mode": {
    "name": "ipython",
    "version": 3
   },
   "file_extension": ".py",
   "mimetype": "text/x-python",
   "name": "python",
   "nbconvert_exporter": "python",
   "pygments_lexer": "ipython3",
   "version": "3.5.2"
  },
  "widgets": {
   "state": {},
   "version": "1.1.2"
  }
 },
 "nbformat": 4,
 "nbformat_minor": 2
}
