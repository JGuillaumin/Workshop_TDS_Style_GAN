{
 "cells": [
  {
   "cell_type": "code",
   "execution_count": null,
   "metadata": {},
   "outputs": [],
   "source": [
    "import numpy as np\n",
    "\n",
    "import matplotlib.pyplot as plt\n",
    "%matplotlib inline"
   ]
  },
  {
   "cell_type": "code",
   "execution_count": null,
   "metadata": {},
   "outputs": [],
   "source": [
    "from keras.models import load_model\n",
    "\n",
    "from keras.optimizers import Adam\n",
    "import keras.backend as K"
   ]
  },
  {
   "cell_type": "code",
   "execution_count": null,
   "metadata": {},
   "outputs": [],
   "source": [
    "z_dim = 100"
   ]
  },
  {
   "cell_type": "markdown",
   "metadata": {},
   "source": [
    "## Load the Meow generator"
   ]
  },
  {
   "cell_type": "code",
   "execution_count": null,
   "metadata": {},
   "outputs": [],
   "source": [
    "G = load_model('../generator.h5')\n",
    "G.summary()"
   ]
  },
  {
   "cell_type": "code",
   "execution_count": null,
   "metadata": {},
   "outputs": [],
   "source": [
    "G.trainable = False\n",
    "for layer in G.layers:\n",
    "    layer.trainable = False"
   ]
  },
  {
   "cell_type": "code",
   "execution_count": null,
   "metadata": {},
   "outputs": [],
   "source": [
    "G.summary()"
   ]
  },
  {
   "cell_type": "code",
   "execution_count": null,
   "metadata": {},
   "outputs": [],
   "source": [
    "z_test = np.random.normal(size=(4, z_dim))\n",
    "generated_imges = G.predict(z_test)\n",
    "generated_imges = np.clip((generated_imges + 1.)*127.5, 0, 255).astype(np.uint8)\n",
    "fig, axes = plt.subplots(figsize=(10, 10), ncols=2, nrows=2)\n",
    "axes[0,0].imshow(generated_imges[0])\n",
    "axes[0,1].imshow(generated_imges[1])\n",
    "axes[1,0].imshow(generated_imges[2])\n",
    "axes[1,1].imshow(generated_imges[3])"
   ]
  },
  {
   "cell_type": "markdown",
   "metadata": {},
   "source": [
    "## Find the latent representation given a cat\n",
    "\n",
    "tools :\n",
    "- K.sum\n",
    "- K.variable\n",
    "- K.square\n",
    "- K.constant"
   ]
  },
  {
   "cell_type": "code",
   "execution_count": null,
   "metadata": {},
   "outputs": [],
   "source": []
  },
  {
   "cell_type": "code",
   "execution_count": null,
   "metadata": {},
   "outputs": [],
   "source": [
    "from gan_utils import BatchGenerator"
   ]
  },
  {
   "cell_type": "code",
   "execution_count": null,
   "metadata": {},
   "outputs": [],
   "source": [
    "dataset_dir = '../data/cat_dataset/'\n",
    "batch_gen = BatchGenerator(directory=dataset_dir, batch_size=1, target_size=(128, 128), pre_processing='tf')"
   ]
  },
  {
   "cell_type": "code",
   "execution_count": null,
   "metadata": {},
   "outputs": [],
   "source": [
    "# find your cat ! \n",
    "cat = batch_gen.next()\n",
    "plt.imshow(np.clip((cat[0] + 1.)*127.5, 0, 255).astype(np.uint8))"
   ]
  },
  {
   "cell_type": "code",
   "execution_count": null,
   "metadata": {},
   "outputs": [],
   "source": []
  },
  {
   "cell_type": "code",
   "execution_count": null,
   "metadata": {},
   "outputs": [],
   "source": [
    "latent_variable = ???\n",
    "output_generator = ???\n",
    "print(output_generator)"
   ]
  },
  {
   "cell_type": "code",
   "execution_count": null,
   "metadata": {},
   "outputs": [],
   "source": [
    "target_tensor = ???"
   ]
  },
  {
   "cell_type": "code",
   "execution_count": null,
   "metadata": {},
   "outputs": [],
   "source": [
    "loss =???\n",
    "print(loss)"
   ]
  },
  {
   "cell_type": "code",
   "execution_count": null,
   "metadata": {},
   "outputs": [],
   "source": [
    "# create an optimizer\n",
    "opt = Adam(lr=0.002)\n",
    "\n",
    "# use it to minimize `loss` wrt `stylized_img_tensor`\n",
    "updates = opt.get_updates([latent_variable], {}, loss)\n",
    "\n",
    "# some values to return\n",
    "to_return = [loss, output_generator, latent_variable]\n",
    "\n",
    "train_step = K.function([], to_return, updates)"
   ]
  },
  {
   "cell_type": "code",
   "execution_count": null,
   "metadata": {},
   "outputs": [],
   "source": [
    "outputs = train_step([])\n",
    "print(\"loss : {}\".format(outputs[0]))\n",
    "img = outputs[1]\n",
    "z = outputs[2]\n",
    "print(img.shape)\n",
    "plt.imshow(np.clip((img[0] + 1.)*127.5, 0, 255).astype(np.uint8))"
   ]
  },
  {
   "cell_type": "code",
   "execution_count": null,
   "metadata": {
    "scrolled": true
   },
   "outputs": [],
   "source": [
    "for i in range(1000):\n",
    "    outputs = train_step([])\n",
    "    if i%100 == 0:\n",
    "        print(\"{}  :  {}\".format(i,outputs[0]))\n",
    "        img = outputs[1]\n",
    "        plt.imshow(np.clip((img[0] + 1.)*127.5, 0, 255).astype(np.uint8))\n",
    "        plt.show()"
   ]
  },
  {
   "cell_type": "code",
   "execution_count": null,
   "metadata": {},
   "outputs": [],
   "source": [
    "outputs = train_step([])\n",
    "print(\"loss : {}\".format(outputs[0]))\n",
    "img = outputs[1]\n",
    "z = outputs[2]\n",
    "print(img.shape)\n",
    "plt.imshow(np.clip((img[0] + 1.)*127.5, 0, 255).astype(np.uint8))"
   ]
  },
  {
   "cell_type": "code",
   "execution_count": null,
   "metadata": {},
   "outputs": [],
   "source": []
  }
 ],
 "metadata": {
  "kernelspec": {
   "display_name": "Python 3",
   "language": "python",
   "name": "python3"
  },
  "language_info": {
   "codemirror_mode": {
    "name": "ipython",
    "version": 3
   },
   "file_extension": ".py",
   "mimetype": "text/x-python",
   "name": "python",
   "nbconvert_exporter": "python",
   "pygments_lexer": "ipython3",
   "version": "3.5.2"
  },
  "widgets": {
   "state": {},
   "version": "1.1.2"
  }
 },
 "nbformat": 4,
 "nbformat_minor": 2
}
